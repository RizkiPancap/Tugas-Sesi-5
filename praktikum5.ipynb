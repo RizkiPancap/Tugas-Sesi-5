{
  "cells": [
    {
      "cell_type": "markdown",
      "metadata": {
        "id": "9DcHGCzeSeTz"
      },
      "source": [
        "Latihan 1"
      ]
    },
    {
      "cell_type": "markdown",
      "metadata": {
        "id": "l7GlL16VSlSA"
      },
      "source": [
        "NO.1"
      ]
    },
    {
      "cell_type": "code",
      "execution_count": 1,
      "metadata": {
        "id": "YUCEO8_ZSY-i"
      },
      "outputs": [
        {
          "name": "stdout",
          "output_type": "stream",
          "text": [
            "manakah hobimu?\n",
            "a. Futsal\n",
            "b. Bermain games\n",
            "c. Mendaki gunung\n",
            "\n"
          ]
        }
      ],
      "source": [
        "print('''manakah hobimu?\n",
        "a. Futsal\n",
        "b. Bermain games\n",
        "c. Mendaki gunung\n",
        "''')\n",
        "hobi = input('Hobi kamu apa? :')\n",
        "if hobi =='a' or hobi == 'A':\n",
        "  print(\"Hobi kamu adalah Futsal\")\n",
        "elif hobi=='b'or hobi =='B':\n",
        "  print(\"Hobi kamu adalah Bermain games\")\n",
        "elif hobi=='c'or hobi =='C':\n",
        "  print(\"Hobi kamu adalah Mendaki gunung\")\n",
        "else:\n",
        "  print(f\"Hobi kamu adalah {hobi}\")\n",
        "\n"
      ]
    },
    {
      "cell_type": "markdown",
      "metadata": {
        "id": "Ie3J7UAISnee"
      },
      "source": [
        "NO. 2"
      ]
    },
    {
      "cell_type": "code",
      "execution_count": 2,
      "metadata": {
        "id": "OL7l-CldSrzB"
      },
      "outputs": [
        {
          "name": "stdout",
          "output_type": "stream",
          "text": [
            "Nama kamu berawalan huruf P\n"
          ]
        }
      ],
      "source": [
        "nama = input('Siapa nama kamu :')\n",
        "print(f\"Nama kamu berawalan huruf {nama[0]}\")\n"
      ]
    },
    {
      "cell_type": "markdown",
      "metadata": {
        "id": "hMDNPZCmS-4E"
      },
      "source": [
        "Latihan 2"
      ]
    },
    {
      "cell_type": "code",
      "execution_count": 9,
      "metadata": {
        "colab": {
          "base_uri": "https://localhost:8080/"
        },
        "id": "H5LIklCNTDJO",
        "outputId": "7c9bda3e-4b78-4295-9e73-730a45b1507b"
      },
      "outputs": [
        {
          "name": "stdout",
          "output_type": "stream",
          "text": [
            "Jawaban anda True\n"
          ]
        }
      ],
      "source": [
        "from random import randint\n",
        "angka_1 = randint(0,100)\n",
        "angka_2 = randint(0,100)\n",
        "\n",
        "hasil = int(input(f\"Berapakah hasil perkalian {angka_1} dan {angka_2} : \"))\n",
        "print(f\"Jawaban anda {hasil==angka_1 * angka_2}\")"
      ]
    },
    {
      "cell_type": "markdown",
      "metadata": {
        "id": "3zk5OuYVTnaC"
      },
      "source": [
        "Latihan 3"
      ]
    },
    {
      "cell_type": "code",
      "execution_count": 11,
      "metadata": {
        "colab": {
          "base_uri": "https://localhost:8080/"
        },
        "id": "vd0VRu7-Tu0B",
        "outputId": "276cd915-843b-4ae8-bd1b-a074380cab30"
      },
      "outputs": [
        {
          "name": "stdout",
          "output_type": "stream",
          "text": [
            "Belajar\n",
            "1. ajar\n",
            "2. Pemrograman\n",
            "3. gram\n",
            "4. Python\n",
            "5. Py\n",
            "6. gram Python\n",
            "7. Pemrograman Python\n"
          ]
        }
      ],
      "source": [
        "hhe=input('coba ketik: Belajar Pemrograman Python')\n",
        "if hhe =='Belajar Pemrograman Python'or hhe=='belajar pemrograman python'or hhe=='BELAJAR PEMROGRAMAN PYTHON':\n",
        "  print('''Belajar\n",
        "1. ajar\n",
        "2. Pemrograman\n",
        "3. gram\n",
        "4. Python\n",
        "5. Py\n",
        "6. gram Python\n",
        "7. Pemrograman Python''')"
      ]
    },
    {
      "cell_type": "markdown",
      "metadata": {
        "id": "po5WVhdoVHji"
      },
      "source": [
        "Latihan 4"
      ]
    },
    {
      "cell_type": "code",
      "execution_count": 12,
      "metadata": {
        "colab": {
          "base_uri": "https://localhost:8080/"
        },
        "id": "8XIY_OgrVJ0o",
        "outputId": "8169a9f9-c94b-4e25-c94c-7c92773a9eaa"
      },
      "outputs": [
        {
          "name": "stdout",
          "output_type": "stream",
          "text": [
            "email yang anda gunakan adalah rizki.panca_ti22@nusaputra.ac.id tidak dapat di gunakan\n",
            "  rizki.panca_ti22@nusaputra.ac.id -> false\n"
          ]
        }
      ],
      "source": [
        "email=input('masukan email: ')\n",
        "if '@gmail.com' in email:\n",
        "  print (f'''email yang anda gunakan adalah {email} dapat di gunakan\n",
        "  {email} -> True''')\n",
        "else:\n",
        "  print (f'''email yang anda gunakan adalah {email} tidak dapat di gunakan\n",
        "  {email} -> false''')"
      ]
    }
  ],
  "metadata": {
    "colab": {
      "provenance": []
    },
    "kernelspec": {
      "display_name": "Python 3",
      "language": "python",
      "name": "python3"
    },
    "language_info": {
      "codemirror_mode": {
        "name": "ipython",
        "version": 3
      },
      "file_extension": ".py",
      "mimetype": "text/x-python",
      "name": "python",
      "nbconvert_exporter": "python",
      "pygments_lexer": "ipython3",
      "version": "3.11.0 (main, Oct 24 2022, 18:26:48) [MSC v.1933 64 bit (AMD64)]"
    },
    "vscode": {
      "interpreter": {
        "hash": "3733fcb7dff34048527d0dc8e3ad2189febf26aa9cd3fe160fec18320158df51"
      }
    }
  },
  "nbformat": 4,
  "nbformat_minor": 0
}
